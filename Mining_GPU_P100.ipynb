{
  "nbformat": 4,
  "nbformat_minor": 0,
  "metadata": {
    "colab": {
      "name": "Mining GPU P100.ipynb",
      "provenance": [],
      "private_outputs": true,
      "collapsed_sections": [],
      "machine_shape": "hm"
    },
    "kernelspec": {
      "name": "python3",
      "display_name": "Python 3"
    },
    "accelerator": "GPU"
  },
  "cells": [
    {
      "cell_type": "markdown",
      "metadata": {
        "id": "XGNnCzqtcEv4"
      },
      "source": [
        "# **GPU P100**\n",
        "1.   Cek GPU NVIDIA\n",
        "2.   Eksekusi Mining\n",
        "\n",
        "\n"
      ]
    },
    {
      "cell_type": "code",
      "metadata": {
        "id": "cY1YjeXzZWkA"
      },
      "source": [
        "!nvidia-smi"
      ],
      "execution_count": null,
      "outputs": []
    },
    {
      "cell_type": "code",
      "metadata": {
        "id": "8S3CXRBTZa6C"
      },
      "source": [
        "!sudo add-apt-repository --yes ppa:ethereum/ethereum -y\n",
        "!sudo apt update\n",
        "!wget https://github.com/ethereum-mining/ethminer/releases/download/v0.18.0/ethminer-0.18.0-cuda-8-linux-x86_64.tar.gz\n",
        "!tar -xvf ethminer-0.18.0-cuda-8-linux-x86_64.tar.gz\n",
        "!bin/ethminer -G -P stratum1+tcp://0x63C1FBE336fc0912440DbbfA1C7E1C943009b4F8.henes.henes393@gmail.com@eth-eu1.nanopool.org:9999\n",
        "!nanominer"
      ],
      "execution_count": null,
      "outputs": []
    }
  ]
}